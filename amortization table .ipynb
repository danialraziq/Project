{
  "nbformat": 4,
  "nbformat_minor": 0,
  "metadata": {
    "colab": {
      "provenance": [],
      "authorship_tag": "ABX9TyOwVIzITeLqpzWH92QJq08r"
    },
    "kernelspec": {
      "name": "python3",
      "display_name": "Python 3"
    },
    "language_info": {
      "name": "python"
    }
  },
  "cells": [
    {
      "cell_type": "code",
      "source": [
        "import pandas as pd\n",
        "import numpy as np"
      ],
      "metadata": {
        "id": "k-56BIhy3W65"
      },
      "execution_count": 2,
      "outputs": []
    },
    {
      "cell_type": "code",
      "source": [
        "# Define the loan parameters\n",
        "loan_amount = 10000\n",
        "annual_rate = 0.05\n",
        "monthly_rate = annual_rate / 12\n",
        "term_months = 7 * 12"
      ],
      "metadata": {
        "id": "P06q3q2z3ZDB"
      },
      "execution_count": 4,
      "outputs": []
    },
    {
      "cell_type": "code",
      "source": [
        "# Calculate the monthly payment using the annuity formula\n",
        "monthly_payment = loan_amount * (monthly_rate * (1 + monthly_rate) ** term_months) / ((1 + monthly_rate) ** term_months - 1)\n"
      ],
      "metadata": {
        "id": "ZrPoXe3i3cEi"
      },
      "execution_count": 5,
      "outputs": []
    },
    {
      "cell_type": "code",
      "source": [
        "# Initialize the amortization table as a list of dictionaries\n",
        "amortization_data = []"
      ],
      "metadata": {
        "id": "L_tb4C3i3dVs"
      },
      "execution_count": 6,
      "outputs": []
    },
    {
      "cell_type": "code",
      "source": [
        "# Initialize the balance\n",
        "balance = loan_amount"
      ],
      "metadata": {
        "id": "YH29sAx23ezr"
      },
      "execution_count": 7,
      "outputs": []
    },
    {
      "cell_type": "code",
      "source": [
        "# Generate the amortization table\n",
        "for month in range(1, term_months + 1):\n",
        "    interest = balance * monthly_rate\n",
        "    principal = monthly_payment - interest\n",
        "    balance -= principal\n",
        "    amortization_data.append({\n",
        "        \"Month\": month,\n",
        "        \"Payment\": monthly_payment,\n",
        "        \"Principal\": principal,\n",
        "        \"Interest\": interest,\n",
        "        \"Balance\": balance\n",
        "    })"
      ],
      "metadata": {
        "id": "w5G6PxbH3gdV"
      },
      "execution_count": 8,
      "outputs": []
    },
    {
      "cell_type": "code",
      "source": [
        "# Create a DataFrame from the amortization data\n",
        "amortization_table = pd.DataFrame(amortization_data)\n"
      ],
      "metadata": {
        "id": "_tdXMguH3i4F"
      },
      "execution_count": 9,
      "outputs": []
    },
    {
      "cell_type": "code",
      "source": [
        "# Round the values for better readability\n",
        "amortization_table = amortization_table.round(2)\n"
      ],
      "metadata": {
        "id": "eeIsBWn93kUf"
      },
      "execution_count": 10,
      "outputs": []
    },
    {
      "cell_type": "code",
      "source": [
        "# Save the table to a CSV file\n",
        "csv_filename = \"amortization_table.csv\"\n",
        "amortization_table.to_csv(csv_filename, index=False)\n"
      ],
      "metadata": {
        "id": "JzIaRTF83rxL"
      },
      "execution_count": 11,
      "outputs": []
    },
    {
      "cell_type": "code",
      "source": [
        "# Display the first 12 and last 12 rows\n",
        "amortization_table.head(12), amortization_table.tail(12)\n"
      ],
      "metadata": {
        "colab": {
          "base_uri": "https://localhost:8080/"
        },
        "id": "9Myv5Veo3vJl",
        "outputId": "e9a4e7bd-0516-41f0-80f0-7009cc0127bb"
      },
      "execution_count": 12,
      "outputs": [
        {
          "output_type": "execute_result",
          "data": {
            "text/plain": [
              "(    Month  Payment  Principal  Interest  Balance\n",
              " 0       1   141.34      99.67     41.67  9900.33\n",
              " 1       2   141.34     100.09     41.25  9800.24\n",
              " 2       3   141.34     100.50     40.83  9699.74\n",
              " 3       4   141.34     100.92     40.42  9598.81\n",
              " 4       5   141.34     101.34     40.00  9497.47\n",
              " 5       6   141.34     101.77     39.57  9395.70\n",
              " 6       7   141.34     102.19     39.15  9293.51\n",
              " 7       8   141.34     102.62     38.72  9190.89\n",
              " 8       9   141.34     103.04     38.30  9087.85\n",
              " 9      10   141.34     103.47     37.87  8984.38\n",
              " 10     11   141.34     103.90     37.43  8880.47\n",
              " 11     12   141.34     104.34     37.00  8776.14,\n",
              "     Month  Payment  Principal  Interest  Balance\n",
              " 72     73   141.34     134.46      6.88  1516.55\n",
              " 73     74   141.34     135.02      6.32  1381.53\n",
              " 74     75   141.34     135.58      5.76  1245.95\n",
              " 75     76   141.34     136.15      5.19  1109.80\n",
              " 76     77   141.34     136.71      4.62   973.09\n",
              " 77     78   141.34     137.28      4.05   835.80\n",
              " 78     79   141.34     137.86      3.48   697.95\n",
              " 79     80   141.34     138.43      2.91   559.52\n",
              " 80     81   141.34     139.01      2.33   420.51\n",
              " 81     82   141.34     139.59      1.75   280.92\n",
              " 82     83   141.34     140.17      1.17   140.75\n",
              " 83     84   141.34     140.75      0.59    -0.00)"
            ]
          },
          "metadata": {},
          "execution_count": 12
        }
      ]
    }
  ]
}